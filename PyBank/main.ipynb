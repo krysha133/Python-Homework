{
 "cells": [
  {
   "cell_type": "code",
   "execution_count": null,
   "id": "941dacd3-5fe3-44d3-9ac3-5f042424bf95",
   "metadata": {},
   "outputs": [],
   "source": [
    "\"\"\"This script will take a .csv dataset composed of two columns, Date and Profit/Losses and will calculate each of the following:\n",
    "    -The total number of months included in the dataset.\n",
    "    -The net total amount of Profit/Losses over the entire period.\n",
    "    -The average of the changes in Profit/Losses over the entire period.\n",
    "    -The greatest increase in profits (date and amount) over the entire period.\n",
    "    -The greatest decrease in losses (date and amount) over the entire period.\n",
    "    Finally, it will output a resulting analysis and export it to a text file with the results\n",
    "\"\"\""
   ]
  },
  {
   "cell_type": "code",
   "execution_count": 1,
   "id": "176cccc3-5d3a-4218-b680-790f16635199",
   "metadata": {},
   "outputs": [],
   "source": [
    "#Import necessary libraries\n",
    "import os\n",
    "import csv"
   ]
  },
  {
   "cell_type": "code",
   "execution_count": 2,
   "id": "d4b4878d-c3ca-4ec9-bbfb-b1e40f5fc206",
   "metadata": {},
   "outputs": [],
   "source": [
    "#Create obejct out of CSV file\n",
    "budget_data = os.path.join(\"budget_data.csv\")"
   ]
  },
  {
   "cell_type": "code",
   "execution_count": 3,
   "id": "bf5f0af2-a31e-4b4f-ae0e-3625bdf7b823",
   "metadata": {},
   "outputs": [],
   "source": [
    "#Initialize initial variables, create empty lists\n",
    "total_months = 0\n",
    "net_pl = 0\n",
    "value = 0\n",
    "change = 0\n",
    "dates = []\n",
    "profits = []"
   ]
  },
  {
   "cell_type": "code",
   "execution_count": 4,
   "id": "a52ad1f2-d55e-4748-bdcf-89f0f5116a34",
   "metadata": {},
   "outputs": [],
   "source": [
    "#Open, read CSV file\n",
    "with open(budget_data, newline = \"\") as csvfile:\n",
    "    csvreader = csv.reader(csvfile, delimiter = \",\")\n",
    "    \n",
    "    #Read header row\n",
    "    csv_header = next(csvreader)\n",
    "    \n",
    "    #Read first row to properly track changes\n",
    "    first_row = next(csvreader)\n",
    "    total_months += 1\n",
    "    net_pl += int(first_row[1])\n",
    "    value = int(first_row[1])\n",
    "    \n",
    "    #Go through each row of data following the header & the first row\n",
    "    for row in csvreader:\n",
    "       #Track dates\n",
    "        dates.append(row[0])\n",
    "        \n",
    "        #Calculate change, add it to list of changes\n",
    "        change = int(row[1])-value\n",
    "        profits.append(change)\n",
    "        value = int(row[1])\n",
    "        \n",
    "        #Total number of months\n",
    "        total_months += 1\n",
    "        \n",
    "        #Net total of Profits/Losses over the entire period\n",
    "        net_pl = net_pl +int(row[1])\n",
    "        \n",
    "    #Find greatest increase in profits, its index and the date\n",
    "    greatest_increase = max(profits)\n",
    "    greatest_index = profits.index(greatest_increase)\n",
    "    greatest_date = dates[greatest_index]\n",
    "    \n",
    "    #Find greatest decrease in profits, its index and the date\n",
    "    greatest_decrease = min(profits)\n",
    "    decrease_index = profits.index(greatest_decrease)\n",
    "    decrease_date = dates[decrease_index]\n",
    "    \n",
    "    #Find average change in Profits/losses between months over the entire period\n",
    "    avg_change = sum(profits)/len(profits)\n",
    "    "
   ]
  },
  {
   "cell_type": "code",
   "execution_count": 5,
   "id": "850814d8-ab8f-4355-9d9e-3e2d5a111e01",
   "metadata": {},
   "outputs": [
    {
     "name": "stdout",
     "output_type": "stream",
     "text": [
      "Financial Analysis\n",
      "----------------------------\n",
      "Total Months: 86\n",
      "Total: $38382578\n",
      "Average Change: $-2315.12\n",
      "Greatest Increase in Profits: Feb-2012 ($1926159)\n",
      "Greatest Decrease in Profits: Sep-2013 ($-2196167)\n"
     ]
    }
   ],
   "source": [
    "#Display information\n",
    "print(\"Financial Analysis\")\n",
    "print(\"----------------------------\")\n",
    "print(f\"Total Months: {str(total_months)}\")\n",
    "print(f\"Total: ${str(net_pl)}\")\n",
    "print(f\"Average Change: ${str(round(avg_change,2))}\")\n",
    "print(f\"Greatest Increase in Profits: {greatest_date} (${str(greatest_increase)})\")\n",
    "print(f\"Greatest Decrease in Profits: {decrease_date} (${str(greatest_decrease)})\")"
   ]
  },
  {
   "cell_type": "code",
   "execution_count": 7,
   "id": "cbba3aaf-b4e2-4012-9944-292d25a1eacb",
   "metadata": {},
   "outputs": [
    {
     "data": {
      "text/plain": [
       "209"
      ]
     },
     "execution_count": 7,
     "metadata": {},
     "output_type": "execute_result"
    }
   ],
   "source": [
    "#Export to output.txt file\n",
    "output = open(\"output.txt\", \"w\")\n",
    "\n",
    "line1 = \"Financial Analysis\"\n",
    "line2 = \"----------------------------\"\n",
    "line3 = str(f\"Total Months: {str(total_months)}\")\n",
    "line4 = str(f\"Total: ${str(net_pl)}\")\n",
    "line5 = str(f\"Average Change: ${str(round(avg_change,2))}\")\n",
    "line6 = str(f\"Greatest Increase in Profits: {greatest_date} (${str(greatest_increase)})\")\n",
    "line7 = str(f\"Greatest Decrease in Profits: {decrease_date} (${str(greatest_decrease)})\")\n",
    "output.write('{}\\n{}\\n{}\\n{}\\n{}\\n{}\\n{}\\n'.format(line1,line2,line3,line4,line5,line6,line7))"
   ]
  },
  {
   "cell_type": "code",
   "execution_count": null,
   "id": "73cd6d4f-c5d9-4746-9b26-42ecadb68e4a",
   "metadata": {},
   "outputs": [],
   "source": []
  }
 ],
 "metadata": {
  "kernelspec": {
   "display_name": "Python 3",
   "language": "python",
   "name": "python3"
  },
  "language_info": {
   "codemirror_mode": {
    "name": "ipython",
    "version": 3
   },
   "file_extension": ".py",
   "mimetype": "text/x-python",
   "name": "python",
   "nbconvert_exporter": "python",
   "pygments_lexer": "ipython3",
   "version": "3.8.5"
  }
 },
 "nbformat": 4,
 "nbformat_minor": 5
}
